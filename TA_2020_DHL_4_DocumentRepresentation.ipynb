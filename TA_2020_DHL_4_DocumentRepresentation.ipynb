{
 "cells": [
  {
   "cell_type": "markdown",
   "metadata": {},
   "source": [
    "### DOCUMENT REPRESENTATION\n",
    "\n",
    "Text is an unstructured data type. Therefore, we need to transform it into structural, numerical values to enable machine learning solutions. "
   ]
  },
  {
   "cell_type": "markdown",
   "metadata": {},
   "source": [
    "___\n",
    "### VECTORIZATION (VECTOR REPRESENTATION)\n",
    "\n",
    "\n",
    "There are many advantages to vectorization. Vectors can easily be compared and their similarity/distance can easily be calculated. "
   ]
  },
  {
   "cell_type": "code",
   "execution_count": 1,
   "metadata": {},
   "outputs": [
    {
     "name": "stdout",
     "output_type": "stream",
     "text": [
      "[2, 3, 5]\n",
      "[2 3 5]\n",
      "(2, 3, 5)\n"
     ]
    }
   ],
   "source": [
    "# VECTOR REPRESENTATION\n",
    "import numpy as np\n",
    "\n",
    "a  =   [ 2 , 3 , 5 ]   #   this   in   mathematical   terms ,   is   a   vector\n",
    "b  =  np.array(a)   # this   is   still   a   vector   in   mathematical   terms \n",
    "c  =  ( 2 , 3 , 5 ) #   this   is   an   immutable   vector ,   but   still   a   vector\n",
    "\n",
    "print(a)\n",
    "print(b)\n",
    "print(c)"
   ]
  },
  {
   "cell_type": "markdown",
   "metadata": {},
   "source": [
    "___\n",
    "### BAG OF WORDS (BOW) \n",
    "\n",
    "BOW is the vectorization approach which consists of tokenization, counting, term-weighting, and normalization. \n",
    "\n",
    "**Example:** <BR>\n",
    "D1 = \"The sky is blue.\" <BR>\n",
    "D2 = \"The sun is bright.\" <BR>\n",
    "Vocabulary = ['blue', 'bright', 'is', 'sky', 'sun', 'the']\n",
    "\n",
    "**Vector Representation:** \n",
    "<BR>    \n",
    "\n",
    "|.              |  Vocabulary:     |blue|bright|is|sky|sun|the|\n",
    "|---------------|------------------|----|------|--|---|---|---|\n",
    "|D1:            |The sky is blue   |1   |     0| 1| 1 | 0 |1  |\n",
    "|D2:            |The sun is bright |0   | 1    | 1 |0 |1  | 1 |\n",
    "    \n",
    "- Note that the features (terms) are binary, 1 or 0, depending on whether a particular word in the vocabulary occurs in a particular document. We can also use other features such as count and frequency.    \n"
   ]
  },
  {
   "cell_type": "markdown",
   "metadata": {},
   "source": [
    "### CountVectorizer\n",
    "\n",
    "First, let's create a very simple corpus that consists of two documents. "
   ]
  },
  {
   "cell_type": "code",
   "execution_count": 2,
   "metadata": {},
   "outputs": [],
   "source": [
    "from sklearn.feature_extraction.text import CountVectorizer\n",
    "from collections import OrderedDict\n",
    "\n",
    "corpus = [\n",
    "    \"The sky is blue.\", \n",
    "    \"The sun is bright.\",\n",
    "]"
   ]
  },
  {
   "cell_type": "markdown",
   "metadata": {},
   "source": [
    "Then, we create our vectorizer object. sklearn has several other vectorizers, but here, we will use the most basic one that is CountVectorizer. "
   ]
  },
  {
   "cell_type": "code",
   "execution_count": 3,
   "metadata": {},
   "outputs": [],
   "source": [
    "vectorizer = CountVectorizer()\n",
    "\n",
    "## To see the class definition: \n",
    "# print(vectorizer)"
   ]
  },
  {
   "cell_type": "markdown",
   "metadata": {},
   "source": [
    "fit() calculates the parameters of the vector.\n",
    "\n",
    "transform() applies these parameters to a set of examples.\n",
    "\n",
    "fit_transform() is using fit() and transform() consecutevily. It is done to \"train\" a model. In this case, a BoW model...\n",
    "\n",
    "The result of fit_transform() operation is a sparse vector. Check out the type and the shape of the sparse vector."
   ]
  },
  {
   "cell_type": "code",
   "execution_count": 4,
   "metadata": {},
   "outputs": [
    {
     "name": "stdout",
     "output_type": "stream",
     "text": [
      "Type of V_sparse:  <class 'scipy.sparse.csr.csr_matrix'>\n",
      "Shape of V_sparse:  (2, 6)\n",
      "V_sparse:\n",
      "   (0, 5)\t1\n",
      "  (0, 3)\t1\n",
      "  (0, 2)\t1\n",
      "  (0, 0)\t1\n",
      "  (1, 5)\t1\n",
      "  (1, 2)\t1\n",
      "  (1, 4)\t1\n",
      "  (1, 1)\t1\n"
     ]
    }
   ],
   "source": [
    "## transform the corpus into a sparse vector\n",
    "V_sparse =  vectorizer.fit_transform(corpus)\n",
    "print(\"Type of V_sparse: \", type(V_sparse))\n",
    "print(\"Shape of V_sparse: \",V_sparse.shape)\n",
    "print(\"V_sparse:\\n\", V_sparse)"
   ]
  },
  {
   "cell_type": "markdown",
   "metadata": {},
   "source": [
    "__UNDERSTAND__: The difference between a sparse array representation and a dense array representation. \n",
    "\n",
    "They are different representations of the same array. But machine learning models usually require dense arrays as inputs. So, we need to convert. "
   ]
  },
  {
   "cell_type": "code",
   "execution_count": 5,
   "metadata": {},
   "outputs": [
    {
     "name": "stdout",
     "output_type": "stream",
     "text": [
      "Type of X:  <class 'numpy.matrix'>\n",
      "Shape of X:  (2, 6)\n",
      "X:\n",
      " [[1 0 1 1 0 1]\n",
      " [0 1 1 0 1 1]]\n"
     ]
    }
   ],
   "source": [
    "## We need a dense vector representation.\n",
    "# Learn the vocabulary dictionary and return term-document matrix. This is equivalent to fit followed by transform, but more efficiently implemented.\n",
    "X = vectorizer.fit_transform(corpus).todense()\n",
    "print(\"Type of X: \", type(X))\n",
    "print(\"Shape of X: \",X.shape)\n",
    "print(\"X:\\n\", X)"
   ]
  },
  {
   "cell_type": "code",
   "execution_count": 6,
   "metadata": {},
   "outputs": [
    {
     "name": "stdout",
     "output_type": "stream",
     "text": [
      "Feature names:  ['blue', 'bright', 'is', 'sky', 'sun', 'the']\n"
     ]
    }
   ],
   "source": [
    "## Display the feature names\n",
    "print(\"Feature names: \", vectorizer.get_feature_names())"
   ]
  },
  {
   "cell_type": "code",
   "execution_count": 7,
   "metadata": {},
   "outputs": [
    {
     "name": "stdout",
     "output_type": "stream",
     "text": [
      "Type of vectorizer_vocabulary_:  <class 'dict'>\n",
      "Vocabulary:  OrderedDict([('blue', 0), ('bright', 1), ('is', 2), ('sky', 3), ('sun', 4), ('the', 5)])\n",
      "X:\n",
      " [[1 0 1 1 0 1]\n",
      " [0 1 1 0 1 1]]\n"
     ]
    }
   ],
   "source": [
    "## Display the vocabulary of the corpus\n",
    "print(\"Type of vectorizer_vocabulary_: \", type(vectorizer.vocabulary_))\n",
    "print(\"Vocabulary: \", OrderedDict(sorted(vectorizer.vocabulary_.items())))\n",
    "print(\"X:\\n\", X)"
   ]
  },
  {
   "cell_type": "markdown",
   "metadata": {},
   "source": [
    "__Exercise 1__\n",
    "\n",
    "Use the following corpus that consists of news titles. \n",
    "\n",
    "Define a CountVectorizer. \n",
    "\n",
    "Transform the corpus into a sparse vector. Print the sparse matrix. \n",
    "\n",
    "Transform into a dense vector. Tip: Use todense(). Print the dense matrix. \n",
    "\n",
    "Display the feature names. \n",
    "\n",
    "Display the vocabulary of the corpus. Use an ordered dictionary to display the words as well. "
   ]
  },
  {
   "cell_type": "code",
   "execution_count": 8,
   "metadata": {},
   "outputs": [],
   "source": [
    "from sklearn.feature_extraction.text import CountVectorizer\n",
    "from collections import OrderedDict\n",
    "\n",
    "corpus_news_titles = [\n",
    "    \"Dutch coronavirus confirmed cases rise over 20.\", \n",
    "    \"Dutch aim for maximum corona control\",\n",
    "    \"Economic support package later today\", \n",
    "    \"Coronavirus and your rights at work\", \n",
    "    \"Artificial Intelligence to rapidly accelerate development in pharma\"\n",
    "]\n",
    "\n",
    "## Define a countvectorizer\n",
    "\n",
    "## transform the corpus into a sparse vector. Print the sparse matrix. \n",
    "\n",
    "## Transform into a dense vector. Use todense(). Print the dense matrix.\n",
    "\n",
    "## Display the feature names\n",
    "\n",
    "## Display the vocabulary of the corpus. Use an ordered dictionary to display the words as well. \n"
   ]
  },
  {
   "cell_type": "code",
   "execution_count": 9,
   "metadata": {},
   "outputs": [
    {
     "name": "stdout",
     "output_type": "stream",
     "text": [
      "Feature names:  ['aim', 'and', 'artificial', 'at', 'cases', 'control', 'corona', 'dutch', 'economic', 'for', 'intelligence', 'maximum', 'package', 'rights', 'rise', 'support', 'to', 'today', 'virus', 'work', 'your'] \n",
      "\n",
      "Vocabulary:  dict_items([('dutch', 7), ('corona', 6), ('virus', 18), ('cases', 4), ('rise', 14), ('aim', 0), ('for', 9), ('maximum', 11), ('control', 5), ('economic', 8), ('support', 15), ('package', 12), ('today', 17), ('and', 1), ('your', 20), ('rights', 13), ('at', 3), ('work', 19), ('artificial', 2), ('intelligence', 10), ('to', 16)]) \n",
      "\n",
      "Ordered Vocabulary:  OrderedDict([('aim', 0), ('and', 1), ('artificial', 2), ('at', 3), ('cases', 4), ('control', 5), ('corona', 6), ('dutch', 7), ('economic', 8), ('for', 9), ('intelligence', 10), ('maximum', 11), ('package', 12), ('rights', 13), ('rise', 14), ('support', 15), ('to', 16), ('today', 17), ('virus', 18), ('work', 19), ('your', 20)]) \n",
      "\n"
     ]
    },
    {
     "data": {
      "text/plain": [
       "matrix([[0, 0, 0, 0, 1, 0, 1, 1, 0, 0, 0, 0, 0, 0, 1, 0, 0, 0, 1, 0, 0],\n",
       "        [1, 0, 0, 0, 0, 1, 1, 1, 0, 1, 0, 1, 0, 0, 0, 0, 0, 0, 0, 0, 0],\n",
       "        [0, 0, 0, 0, 0, 0, 0, 0, 1, 0, 0, 0, 1, 0, 0, 1, 0, 1, 0, 0, 0],\n",
       "        [0, 1, 0, 1, 0, 0, 1, 0, 0, 0, 0, 0, 0, 1, 0, 0, 0, 0, 1, 1, 1],\n",
       "        [0, 0, 1, 0, 0, 0, 0, 0, 0, 0, 1, 0, 0, 0, 0, 1, 1, 0, 0, 1, 0]],\n",
       "       dtype=int64)"
      ]
     },
     "execution_count": 9,
     "metadata": {},
     "output_type": "execute_result"
    }
   ],
   "source": [
    "#### SOLUTION\n",
    "\n",
    "from sklearn.feature_extraction.text import CountVectorizer\n",
    "from collections import OrderedDict\n",
    "\n",
    "corpus_news_titles = [\n",
    "    \"Dutch corona virus cases rise\", \n",
    "    \"Dutch aim for maximum corona control\",\n",
    "    \"Economic support package today\", \n",
    "    \"Corona virus and your rights at work\", \n",
    "    \"Artificial Intelligence to support work\"\n",
    "]\n",
    "\n",
    "## Define a countvectorizer\n",
    "vect_news = CountVectorizer()\n",
    "\n",
    "## transform the corpus into a sparse vector. Print the sparse matrix. \n",
    "V_sparse_news =  vect_news.fit_transform(corpus_news_titles)\n",
    "\n",
    "## Transform into a dense vector. Use todense(). Print the dense matrix.\n",
    "X_news = V_sparse_news.todense()\n",
    "\n",
    "## Display the feature names\n",
    "print(\"Feature names: \", vect_news.get_feature_names(), '\\n')\n",
    "\n",
    "## Display the vocabulary of the corpus. Use an ordered dictionary to display the words as well. \n",
    "print(\"Vocabulary: \",(vect_news.vocabulary_.items()), '\\n')\n",
    "print(\"Ordered Vocabulary: \",OrderedDict(sorted(vect_news.vocabulary_.items())), '\\n')\n",
    "\n",
    "\n",
    "X_news"
   ]
  },
  {
   "cell_type": "markdown",
   "metadata": {},
   "source": [
    "___\n",
    "### TODO BEFORE MOVING ON\n",
    "#### Copy your functions from the previous notebook\n",
    "\n",
    "We will/may need: \n",
    "\n",
    "- your tokenization function\n",
    "- your stemmer function\n",
    "- your lemmatizer function\n",
    "- your stop word removal function"
   ]
  },
  {
   "cell_type": "code",
   "execution_count": 10,
   "metadata": {},
   "outputs": [],
   "source": [
    "## OUR PREPROCESSING PIPELINE\n",
    "# Copy your pipeline functions here. Tokenization, Lowercase, remove punctuation, remove stop words, stemming\n",
    "#\n",
    "#\n",
    "# The functions below may not be sufficient. Put the ones you created before. \n",
    "\n",
    "import nltk\n",
    "import string\n",
    "from nltk.stem import PorterStemmer\n",
    "\n",
    "#print (ps.stem('preprocessing'))\n",
    "def tokenize(text):\n",
    "    no_punct = text.translate(text.maketrans('','', string.punctuation))\n",
    "    words = nltk.word_tokenize(no_punct.lower())\n",
    "    return words\n",
    "\n",
    "def remove_stopwords(tokens):\n",
    "    stopword_list = nltk.corpus.stopwords.words('english')\n",
    "    filtered_tokens = [ token for token in tokens if token.lower() not in stopword_list ]\n",
    "    return filtered_tokens\n",
    "\n",
    "def pre_process(text):\n",
    "    ps = PorterStemmer()\n",
    "    stems = (ps.stem(w) for w in tokenize(text))\n",
    "    no_stops = remove_stopwords(stems)\n",
    "    #no_stops = stems\n",
    "    return (no_stops)\n"
   ]
  },
  {
   "cell_type": "code",
   "execution_count": 11,
   "metadata": {},
   "outputs": [
    {
     "name": "stdout",
     "output_type": "stream",
     "text": [
      "Vocabulary:  OrderedDict([('blue', 0), ('bright', 1), ('sky', 2), ('sun', 3)]) \n",
      "\n",
      "X:\n",
      " [[1 0 1 0]\n",
      " [0 1 0 1]]\n"
     ]
    }
   ],
   "source": [
    "## A neat trick: How to call your custom pre-processing pipeline functions during the vectorization process.\n",
    "\n",
    "corpus = [\n",
    "    \"The sky is blue.\", \n",
    "    \"The sun is bright.\",\n",
    "]\n",
    "\n",
    "vectorizer = CountVectorizer(analyzer=pre_process) ## Set the analyzer parameter to the name of your function. Make sure your function returns a list of word tokens!\n",
    "\n",
    "# Learn the vocabulary dictionary and return term-document matrix. This is equivalent to fit followed by transform, but more efficiently implemented.\n",
    "X = vectorizer.fit_transform(corpus).todense()\n",
    "print(\"Vocabulary: \", OrderedDict(sorted(vectorizer.vocabulary_.items())), '\\n')\n",
    "print(\"X:\\n\", X)"
   ]
  },
  {
   "cell_type": "code",
   "execution_count": 12,
   "metadata": {},
   "outputs": [
    {
     "name": "stdout",
     "output_type": "stream",
     "text": [
      "Vocabulary:  OrderedDict([('blue', 0), ('bright', 1), ('is', 2), ('sky', 3), ('sun', 4), ('the', 5)])\n",
      "X:\n",
      " [[1 0 1 1 0 1]\n",
      " [0 1 1 0 1 1]]\n"
     ]
    }
   ],
   "source": [
    "## This cell is just to see how it is without the custom pre_processing. Run and compare the outcome with the previous cell outcome.\n",
    "\n",
    "corpus = [\n",
    "    \"The sky is blue.\", \n",
    "    \"The sun is bright.\",\n",
    "]\n",
    "\n",
    "vectorizer = CountVectorizer() ## Set the analyzer parameter to the name of your function. Make sure your function returns a list of word tokens!\n",
    "\n",
    "# Learn the vocabulary dictionary and return term-document matrix. This is equivalent to fit followed by transform, but more efficiently implemented.\n",
    "X = vectorizer.fit_transform(corpus).todense()\n",
    "print(\"Vocabulary: \", OrderedDict(sorted(vectorizer.vocabulary_.items())))\n",
    "print(\"X:\\n\", X)"
   ]
  },
  {
   "cell_type": "markdown",
   "metadata": {},
   "source": [
    "__Exercise 2__\n",
    "\n",
    "Vectorize the news titles using your custom preprocessing pipeline. \n",
    "\n",
    "Compare the effect of preprocessing on the vocabulary size."
   ]
  },
  {
   "cell_type": "code",
   "execution_count": 13,
   "metadata": {},
   "outputs": [],
   "source": [
    "## Create your magic here...\n",
    "\n",
    "from sklearn.feature_extraction.text import CountVectorizer\n",
    "from collections import OrderedDict\n",
    "\n",
    "corpus_news_titles = [\n",
    "    \"Dutch corona virus cases rise\", \n",
    "    \"Dutch aim for maximum corona control\",\n",
    "    \"Economic support package today\", \n",
    "    \"Corona virus and your rights at work\", \n",
    "    \"Artificial Intelligence to support work\"\n",
    "]\n",
    "\n",
    "## Define a countvectorizer\n",
    "\n",
    "## transform the corpus into a sparse vector. Print the sparse matrix. \n",
    "\n",
    "## Transform into a dense vector. Use todense(). Print the dense matrix.\n",
    "\n",
    "## Display the feature names\n",
    "\n",
    "## Display the vocabulary of the corpus. Use an ordered dictionary to display the words as well. \n"
   ]
  },
  {
   "cell_type": "code",
   "execution_count": 14,
   "metadata": {},
   "outputs": [
    {
     "name": "stdout",
     "output_type": "stream",
     "text": [
      "Feature names:  ['aim', 'artifici', 'case', 'control', 'corona', 'dutch', 'econom', 'intellig', 'maximum', 'packag', 'right', 'rise', 'support', 'today', 'viru', 'work'] \n",
      "\n",
      "Vocabulary:  dict_items([('dutch', 5), ('corona', 4), ('viru', 14), ('case', 2), ('rise', 11), ('aim', 0), ('maximum', 8), ('control', 3), ('econom', 6), ('support', 12), ('packag', 9), ('today', 13), ('right', 10), ('work', 15), ('artifici', 1), ('intellig', 7)]) \n",
      "\n",
      "Ordered Vocabulary:  OrderedDict([('aim', 0), ('artifici', 1), ('case', 2), ('control', 3), ('corona', 4), ('dutch', 5), ('econom', 6), ('intellig', 7), ('maximum', 8), ('packag', 9), ('right', 10), ('rise', 11), ('support', 12), ('today', 13), ('viru', 14), ('work', 15)]) \n",
      "\n"
     ]
    },
    {
     "data": {
      "text/plain": [
       "matrix([[0, 0, 1, 0, 1, 1, 0, 0, 0, 0, 0, 1, 0, 0, 1, 0],\n",
       "        [1, 0, 0, 1, 1, 1, 0, 0, 1, 0, 0, 0, 0, 0, 0, 0],\n",
       "        [0, 0, 0, 0, 0, 0, 1, 0, 0, 1, 0, 0, 1, 1, 0, 0],\n",
       "        [0, 0, 0, 0, 1, 0, 0, 0, 0, 0, 1, 0, 0, 0, 1, 1],\n",
       "        [0, 1, 0, 0, 0, 0, 0, 1, 0, 0, 0, 0, 1, 0, 0, 1]], dtype=int64)"
      ]
     },
     "execution_count": 14,
     "metadata": {},
     "output_type": "execute_result"
    }
   ],
   "source": [
    "#### SOLUTION\n",
    "\n",
    "from sklearn.feature_extraction.text import CountVectorizer\n",
    "from collections import OrderedDict\n",
    "\n",
    "corpus_news_titles = [\n",
    "    \"Dutch corona virus cases rise\", \n",
    "    \"Dutch aim for maximum corona control\",\n",
    "    \"Economic support package today\", \n",
    "    \"Corona virus and your rights at work\", \n",
    "    \"Artificial Intelligence to support work\"\n",
    "]\n",
    "\n",
    "## Define a countvectorizer\n",
    "vect_news = CountVectorizer(analyzer=pre_process)\n",
    "\n",
    "## transform the corpus into a sparse vector. Print the sparse matrix. \n",
    "V_sparse_news =  vect_news.fit_transform(corpus_news_titles)\n",
    "\n",
    "## Transform into a dense vector. Use todense(). Print the dense matrix.\n",
    "X_news = V_sparse_news.todense()\n",
    "\n",
    "## Display the feature names\n",
    "print(\"Feature names: \", vect_news.get_feature_names(), '\\n')\n",
    "\n",
    "## Display the vocabulary of the corpus. Use an ordered dictionary to display the words as well. \n",
    "print(\"Vocabulary: \",(vect_news.vocabulary_.items()), '\\n')\n",
    "print(\"Ordered Vocabulary: \",OrderedDict(sorted(vect_news.vocabulary_.items())), '\\n')\n",
    "\n",
    "\n",
    "X_news\n"
   ]
  },
  {
   "cell_type": "code",
   "execution_count": 15,
   "metadata": {},
   "outputs": [
    {
     "name": "stdout",
     "output_type": "stream",
     "text": [
      "BOW Representation of test_set:\n",
      " \n",
      "\n",
      "\n"
     ]
    },
    {
     "data": {
      "text/plain": [
       "matrix([[0, 0, 0, 0, 0, 0, 0, 0, 0, 0, 0, 0, 0, 0, 0, 0]], dtype=int64)"
      ]
     },
     "execution_count": 15,
     "metadata": {},
     "output_type": "execute_result"
    }
   ],
   "source": [
    "############ Run the following part after covering the subject of train and test sets (below). \n",
    "smatrix = vect_news.transform(['now a document without any word in training set'])\n",
    "print(\"BOW Representation of test_set:\\n\", smatrix)\n",
    "\n",
    "print(\"\\n\")\n",
    "\n",
    "X = smatrix.todense()\n",
    "X\n"
   ]
  },
  {
   "cell_type": "markdown",
   "metadata": {},
   "source": [
    "___\n",
    "### The notions of training_set and test_set\n",
    "\n",
    "In this context, training_set is the corpus on which we build our vocabulary. \n",
    "The test_set is the new corpus which we map on our existing vocabulary. \n",
    "- The training_set may not inculde all words in the test_set. So, the documents in the test_set may not be fully represented by the vocabulary we built using the training_set. \n"
   ]
  },
  {
   "cell_type": "code",
   "execution_count": 16,
   "metadata": {},
   "outputs": [
    {
     "name": "stdout",
     "output_type": "stream",
     "text": [
      "Vocabulary (train_set):  OrderedDict([('blue', 0), ('bright', 1), ('sky', 2), ('sun', 3)])\n",
      "\n",
      "\n",
      "BOW Representation of test_set:\n",
      "   (0, 1)\t1\n",
      "  (0, 2)\t1\n",
      "  (0, 3)\t1\n",
      "  (1, 1)\t1\n",
      "  (1, 3)\t2\n",
      "\n",
      "\n",
      "BOW Representation of test_set (dense matrix):\n",
      " [[0 1 1 1]\n",
      " [0 1 0 2]]\n"
     ]
    }
   ],
   "source": [
    "train_set = (\"The sky is blue.\", \"The sun is bright.\")\n",
    "test_set = (\"The sun in the sky is bright.\",\n",
    "    \"We can see the shining sun, the bright sun.\")\n",
    "\n",
    "vectorizer = CountVectorizer(analyzer=pre_process)\n",
    "\n",
    "# Learn a vocabulary dictionary of all tokens in the raw documents.\n",
    "vectorizer.fit(train_set) \n",
    "print(\"Vocabulary (train_set): \", OrderedDict(sorted(vectorizer.vocabulary_.items())))\n",
    "\n",
    "print(\"\\n\")\n",
    "\n",
    "# Transform documents to document-term matrix. Extract token counts out of raw text documents using the vocabulary fitted with fit.\n",
    "smatrix = vectorizer.transform(test_set)\n",
    "print(\"BOW Representation of test_set:\\n\", smatrix)\n",
    "\n",
    "print(\"\\n\")\n",
    "\n",
    "X = smatrix.todense()\n",
    "#print(X.shape)\n",
    "print(\"BOW Representation of test_set (dense matrix):\\n\", X)\n"
   ]
  },
  {
   "cell_type": "markdown",
   "metadata": {},
   "source": [
    "___\n",
    "### COUNT vs. FREQUENCY \n",
    "We mentioned that we can use term weighting other than the binary approach. We exemplified CountVectorizer which creates vectors using the count of words. But these have shortcomings in dealing with large documents. So, at this point, we try normalizing the weight with the vector size (i.e. frequency instead of count).\n",
    "\n",
    "\n"
   ]
  },
  {
   "cell_type": "code",
   "execution_count": 17,
   "metadata": {},
   "outputs": [
    {
     "name": "stdout",
     "output_type": "stream",
     "text": [
      "Vocabulary (train_set):  OrderedDict([('blue', 0), ('bright', 1), ('sky', 2), ('sun', 3)]) \n",
      "\n",
      "test_set:  ('The sun in the sky is bright.', 'We can see the shining sun, the bright sun.') \n",
      "\n",
      "Normalized sparse matrix\n",
      "   (0, 1)\t0.3333333333333333\n",
      "  (0, 2)\t0.3333333333333333\n",
      "  (0, 3)\t0.3333333333333333\n",
      "  (1, 1)\t0.3333333333333333\n",
      "  (1, 3)\t0.6666666666666666 \n",
      "\n",
      "Normalized dense matrix\n",
      " [[0.         0.33333333 0.33333333 0.33333333]\n",
      " [0.         0.33333333 0.         0.66666667]]\n"
     ]
    }
   ],
   "source": [
    "# COUNT VS TERM-FREQUENCY\n",
    "# Is the count of word a suitable measure? What happens if our documents differ in size? \n",
    "# We can normalize the word count into frequency by dividing the vector by the sum of non-zero elements in it.\n",
    "\n",
    "# Remember the vocabulary\n",
    "print(\"Vocabulary (train_set): \", OrderedDict(sorted(vectorizer.vocabulary_.items())), '\\n')\n",
    "# Remember the test set:\n",
    "print(\"test_set: \",test_set, '\\n')\n",
    "\n",
    "import sklearn.preprocessing\n",
    "smatrix_normalized = sklearn.preprocessing.normalize(smatrix, axis=1, norm='l1')\n",
    "print(\"Normalized sparse matrix\\n\", smatrix_normalized, '\\n')\n",
    "\n",
    "# Dense matrix representation (Features are Term Frequency - Tf)\n",
    "print(\"Normalized dense matrix\\n\", smatrix_normalized.todense())"
   ]
  },
  {
   "cell_type": "markdown",
   "metadata": {},
   "source": [
    "___ \n",
    "### SIMILARITY CALCULATION\n",
    "There are multiple ways to calculate the smilarity of vectors. Below are the examples of how to calculate them using sklearn. \n",
    "\n",
    "- Manhattan Distance\n",
    "- Euclidean Distance\n",
    "- Minkowski Distance\n",
    "- Cosine Distance\n",
    "\n",
    "Be able to explain the difference between these distance measures and decide which one is the most appropriate to use in certain situations.\n",
    "\n",
    "**Question:** - How is distance related to similarity?\n"
   ]
  },
  {
   "cell_type": "code",
   "execution_count": 18,
   "metadata": {},
   "outputs": [
    {
     "name": "stdout",
     "output_type": "stream",
     "text": [
      "Manhattan Distance:  [[45.]]\n",
      "Euclidean Distance:  [[37.10795063]]\n",
      "Minkowski Distance:  [[37.10795063]]\n",
      "Cosine Similarity:  [[1.]]\n"
     ]
    }
   ],
   "source": [
    "import numpy as np \n",
    "# Check the behavior of different similarity measures \n",
    "# Documentation: https://scikit-learn.org/stable/modules/generated/sklearn.neighbors.DistanceMetric.html\n",
    "\n",
    "vec1 = np.array([[1,4]])\n",
    "vec2 = np.array([[10,40]])\n",
    "vec3 = np.array([[4,1]])\n",
    "\n",
    "# MANHATTAN DISTANCE\n",
    "# Formula: d = sum(|x - y|)\n",
    "from sklearn.metrics.pairwise import manhattan_distances\n",
    "print('Manhattan Distance: ', manhattan_distances(vec1, vec2))\n",
    "\n",
    "# EUCLIDEAN DISTANCE\n",
    "# Formula: d = sqrt(sum((x - y)^2))\n",
    "from sklearn.metrics.pairwise import euclidean_distances\n",
    "print('Euclidean Distance: ', euclidean_distances(vec1, vec2))\n",
    "\n",
    "# MINKOWSKI DISTANCE\n",
    "# Formula: d = sum(|x - y|^p)^(1/p)\n",
    "from sklearn.neighbors import DistanceMetric\n",
    "dist = DistanceMetric.get_metric('minkowski')\n",
    "print('Minkowski Distance: ', dist.pairwise(vec1, vec2))\n",
    "\n",
    "# COSINE DISTANCE\n",
    "from sklearn.metrics.pairwise import cosine_similarity\n",
    "import numpy as np\n",
    "\n",
    "#print(cosine_similarity([vec1, vec2]))\n",
    "print('Cosine Similarity: ', cosine_similarity(vec1, vec2))"
   ]
  },
  {
   "cell_type": "code",
   "execution_count": null,
   "metadata": {},
   "outputs": [],
   "source": []
  },
  {
   "cell_type": "markdown",
   "metadata": {},
   "source": [
    "___\n",
    "### Exercise 3 \n",
    "#### Similarity Calculation on a Simple Text Corpus\n",
    "\n",
    "Do: \n",
    "\n",
    "1. Build a vocabulary using the training set (Vectorize the training set) using (a) CountVectorizer and (b) Term Frequency.  \n",
    "2. Express the test set as vectors using the vectorizer you trained in the previous step. \n",
    "3. Calculate the difference/similarity using all similarity measures we introduced earlier. \n",
    "4. Compare the difference (CountVectorizer vs Term Frequency), (between different similarity measures)"
   ]
  },
  {
   "cell_type": "code",
   "execution_count": 19,
   "metadata": {},
   "outputs": [],
   "source": [
    "# Try it with a real example\n",
    "\n",
    "train_set = (\"The sky is blue.\", \"The sun is bright.\")\n",
    "test_set = (\"The sun in the sky is bright.\",\n",
    "    \"We can see the shining sun, the bright sun.\")\n",
    "\n",
    "# your magic happens here :)\n",
    "#\n",
    "#\n",
    "#\n"
   ]
  },
  {
   "cell_type": "code",
   "execution_count": 20,
   "metadata": {},
   "outputs": [
    {
     "name": "stdout",
     "output_type": "stream",
     "text": [
      "Vocabulary (train_set):  OrderedDict([('blue', 0), ('bright', 1), ('is', 2), ('sky', 3), ('sun', 4), ('the', 5)]) \n",
      "\n",
      "D1:   [[0 1 1 1 1 2]] \n",
      " D2 : [[0 1 0 0 2 2]] \n",
      "\n",
      "[[3.]]\n",
      "[[1.73205081]]\n",
      "[[1.73205081]]\n",
      "[[0.82495791]]\n",
      " D1:   [[0.         0.16666667 0.16666667 0.16666667 0.16666667 0.33333333]] \n",
      " D2 : [[0.  0.2 0.  0.  0.4 0.4]] \n",
      "\n",
      "[[0.66666667]]\n",
      "[[0.33993463]]\n",
      "[[0.33993463]]\n",
      "[[0.82495791]]\n"
     ]
    }
   ],
   "source": [
    "########## SOLUTION\n",
    "from sklearn.feature_extraction.text import CountVectorizer\n",
    "from collections import OrderedDict\n",
    "import sklearn.preprocessing\n",
    "\n",
    "# Build a vocabulary using the training set (Vectorize the training set) using (a) CountVectorizer and (b) Term Frequency.\n",
    "vectorizer = CountVectorizer()\n",
    "\n",
    "vectorizer.fit(train_set) \n",
    "print(\"Vocabulary (train_set): \", OrderedDict(sorted(vectorizer.vocabulary_.items())), '\\n')\n",
    "\n",
    "# Express the test set as vectors using the vectorizer you trained in the previous step.\n",
    "smatrix = vectorizer.transform(test_set)\n",
    "X = smatrix.todense()\n",
    "\n",
    "smatrix_normalized = sklearn.preprocessing.normalize(smatrix, axis=1, norm='l1')\n",
    "X_normalized = smatrix_normalized.todense()\n",
    "\n",
    "# Calculate the difference/similarity using all similarity measures we introduced earlier.\n",
    "\n",
    "vec1 = X[0]\n",
    "vec2 = X[1]\n",
    "print('D1:  ', vec1, '\\n', 'D2 :', vec2, '\\n')\n",
    "# MANHATTAN DISTANCE\n",
    "from sklearn.metrics.pairwise import manhattan_distances\n",
    "print(manhattan_distances(vec1, vec2))\n",
    "\n",
    "# EUCLIDEAN DISTANCE\n",
    "# Formula: d = sqrt(sum((x - y)^2))\n",
    "from sklearn.metrics.pairwise import euclidean_distances\n",
    "print(euclidean_distances(vec1, vec2))\n",
    "\n",
    "# MINKOWSKI DISTANCE\n",
    "# Formula: d = sum(|x - y|^p)^(1/p)\n",
    "from sklearn.neighbors import DistanceMetric\n",
    "dist = DistanceMetric.get_metric('minkowski')\n",
    "print(dist.pairwise(vec1, vec2))\n",
    "\n",
    "# COSINE DISTANCE\n",
    "from sklearn.metrics.pairwise import cosine_similarity\n",
    "import numpy as np\n",
    "print(cosine_similarity(vec1, vec2))\n",
    "\n",
    "# Compare the difference (CountVectorizer vs Term Frequency), (between different similarity measures)\n",
    "\n",
    "vec1 = X_normalized[0]\n",
    "vec2 = X_normalized[1]\n",
    "print(' D1:  ', vec1, '\\n', 'D2 :', vec2, '\\n')\n",
    "# MANHATTAN DISTANCE\n",
    "from sklearn.metrics.pairwise import manhattan_distances\n",
    "print(manhattan_distances(vec1, vec2))\n",
    "\n",
    "# EUCLIDEAN DISTANCE\n",
    "# Formula: d = sqrt(sum((x - y)^2))\n",
    "from sklearn.metrics.pairwise import euclidean_distances\n",
    "print(euclidean_distances(vec1, vec2))\n",
    "\n",
    "# MINKOWSKI DISTANCE\n",
    "# Formula: d = sum(|x - y|^p)^(1/p)\n",
    "from sklearn.neighbors import DistanceMetric\n",
    "dist = DistanceMetric.get_metric('minkowski')\n",
    "print(dist.pairwise(vec1, vec2))\n",
    "\n",
    "# COSINE DISTANCE\n",
    "from sklearn.metrics.pairwise import cosine_similarity\n",
    "import numpy as np\n",
    "print(cosine_similarity(vec1, [[0,0.2, 0, 0, 0.4, 0.4]]))"
   ]
  },
  {
   "cell_type": "markdown",
   "metadata": {},
   "source": [
    "__To visualize pairwise similarity__"
   ]
  },
  {
   "cell_type": "code",
   "execution_count": 21,
   "metadata": {},
   "outputs": [
    {
     "name": "stdout",
     "output_type": "stream",
     "text": [
      "[[1.         0.82495791]]\n",
      "[[0.82495791 1.        ]]\n",
      "[[0.9999999999999998, 0.8249579113843054], [0.8249579113843054, 1.0]]\n"
     ]
    },
    {
     "data": {
      "image/png": "[encoded data removed]",
      "text/plain": [
       "<Figure size 288x288 with 1 Axes>"
      ]
     },
     "metadata": {
      "needs_background": "light"
     },
     "output_type": "display_data"
    }
   ],
   "source": [
    "dist_matrix = []\n",
    "for i in range(len(train_set)):\n",
    "    dist_out= cosine_similarity(X[i:i+1], X)\n",
    "    dist_matrix.append(list(dist_out[0]))\n",
    "    print(dist_out)\n",
    "print(dist_matrix)\n",
    "\n",
    "# visualize\n",
    "import numpy as np\n",
    "import pandas as pd\n",
    "from matplotlib import cm as cm\n",
    "import matplotlib.pyplot as plt\n",
    "\n",
    "\n",
    "%matplotlib inline\n",
    "\n",
    "cmap = cm.get_cmap('Reds')\n",
    "cax = plt.matshow(dist_matrix, interpolation='nearest', cmap=cmap)"
   ]
  },
  {
   "cell_type": "markdown",
   "metadata": {},
   "source": [
    "### Exercise 4 - Real Data Set\n",
    "\n",
    "1. Load the data: All text files under the folder data/marvel_movies (done, below!)\n",
    "\n",
    "2. Represent the documents in BOW. (Use the features: Count, Frequency)\n",
    "\n",
    "3. Calculate the cosine similarity\n",
    "\n",
    "4. Plot similarity matrices for two different features. \n",
    "\n",
    "5. Compare the results"
   ]
  },
  {
   "cell_type": "code",
   "execution_count": 22,
   "metadata": {},
   "outputs": [],
   "source": [
    "# EXERCISE \n",
    "# IMDB Movie Plot Summary Similarity\n",
    "# Load Data: \n",
    "corpus = []\n",
    "f = open(\"data/marvel_movies/avengers1.txt\", \"r\") \n",
    "corpus.append(f.read())\n",
    "f = open(\"data/marvel_movies/avengers2.txt\", \"r\") \n",
    "corpus.append(f.read())\n",
    "f = open(\"data/marvel_movies/ironman1.txt\", \"r\") \n",
    "corpus.append(f.read())\n",
    "f = open(\"data/marvel_movies/ironman2.txt\", \"r\") \n",
    "corpus.append(f.read())\n",
    "#f = open(\"data/marvel_movies/ironman3.txt\", \"r\") \n",
    "#corpus.append(f.read())\n",
    "f = open(\"data/marvel_movies/godfather1.txt\", \"r\") \n",
    "corpus.append(f.read())\n",
    "f = open(\"data/marvel_movies/godfather2.txt\", \"r\") \n",
    "corpus.append(f.read())\n",
    "f = open(\"data/marvel_movies/godfather3.txt\", \"r\") \n",
    "corpus.append(f.read())\n",
    "#print (corpus)\n",
    "\n",
    "#analyzer = CountVectorizer().build_analyzer()\n",
    "#vectorizer = CountVectorizer(analyzer=pre_process)\n",
    "vectorizer = CountVectorizer(stop_words='english')"
   ]
  },
  {
   "cell_type": "code",
   "execution_count": 23,
   "metadata": {},
   "outputs": [
    {
     "name": "stdout",
     "output_type": "stream",
     "text": [
      "489\n",
      "\n",
      "\n",
      "[[1.         0.59821765 0.51451276 0.56018508 0.51601674 0.55685086\n",
      "  0.4269229 ]]\n",
      "[[0.59821765 1.         0.55580092 0.61863784 0.53398447 0.63061999\n",
      "  0.48108205]]\n",
      "[[0.51451276 0.55580092 1.         0.61774216 0.47078382 0.52358989\n",
      "  0.39848821]]\n",
      "[[0.56018508 0.61863784 0.61774216 1.         0.49782326 0.52255878\n",
      "  0.43706486]]\n",
      "[[0.51601674 0.53398447 0.47078382 0.49782326 1.         0.72674115\n",
      "  0.61578745]]\n",
      "[[0.55685086 0.63061999 0.52358989 0.52255878 0.72674115 1.\n",
      "  0.66534815]]\n",
      "[[0.4269229  0.48108205 0.39848821 0.43706486 0.61578745 0.66534815\n",
      "  1.        ]]\n",
      "[[0.9999999999999999, 0.5982176509134094, 0.5145127629688752, 0.5601850774499321, 0.516016744371792, 0.5568508636143134, 0.4269228972973087], [0.5982176509134094, 0.9999999999999998, 0.5558009239740591, 0.618637839776679, 0.5339844728825959, 0.6306199878497027, 0.4810820511196172], [0.5145127629688752, 0.5558009239740591, 0.9999999999999997, 0.6177421638012492, 0.47078382135424457, 0.52358988617394, 0.39848820593701345], [0.5601850774499321, 0.618637839776679, 0.6177421638012492, 1.0, 0.49782326087335255, 0.5225587796431702, 0.43706485903833364], [0.516016744371792, 0.5339844728825959, 0.47078382135424457, 0.4978232608733525, 0.9999999999999991, 0.7267411521779673, 0.6157874479804946], [0.5568508636143134, 0.6306199878497027, 0.52358988617394, 0.5225587796431702, 0.7267411521779673, 1.0, 0.6653481486458885], [0.4269228972973087, 0.48108205111961727, 0.39848820593701345, 0.43706485903833364, 0.6157874479804947, 0.6653481486458885, 0.9999999999999996]]\n"
     ]
    },
    {
     "data": {
      "image/png": "[encoded data removed]",
      "text/plain": [
       "<Figure size 720x864 with 1 Axes>"
      ]
     },
     "metadata": {},
     "output_type": "display_data"
    }
   ],
   "source": [
    "#### SOL\n",
    "\n",
    "# EXERCISE \n",
    "# IMDB Movie Plot Summary Similarity\n",
    "# Load Data: \n",
    "corpus = []\n",
    "f = open(\"data/marvel_movies/avengers1.txt\", \"r\") \n",
    "corpus.append(f.read())\n",
    "f = open(\"data/marvel_movies/avengers2.txt\", \"r\") \n",
    "corpus.append(f.read())\n",
    "f = open(\"data/marvel_movies/ironman1.txt\", \"r\") \n",
    "corpus.append(f.read())\n",
    "f = open(\"data/marvel_movies/ironman2.txt\", \"r\") \n",
    "corpus.append(f.read())\n",
    "#f = open(\"data/marvel_movies/ironman3.txt\", \"r\") \n",
    "#corpus.append(f.read())\n",
    "f = open(\"data/marvel_movies/godfather1.txt\", \"r\") \n",
    "corpus.append(f.read())\n",
    "f = open(\"data/marvel_movies/godfather2.txt\", \"r\") \n",
    "corpus.append(f.read())\n",
    "f = open(\"data/marvel_movies/godfather3.txt\", \"r\") \n",
    "corpus.append(f.read())\n",
    "#print (corpus)\n",
    "\n",
    "\n",
    "#analyzer = CountVectorizer().build_analyzer()\n",
    "vectorizer = CountVectorizer()\n",
    "#vectorizer = CountVectorizer(analyzer=pre_process)\n",
    "#vectorizer = CountVectorizer(stop_words='english')\n",
    "#vectorizer = TfidfVectorizer(stop_words='english')\n",
    "\n",
    "X = vectorizer.fit_transform(corpus).todense()\n",
    "#print(vectorizer.get_feature_names())\n",
    "# print(X.shape)\n",
    "#type(vectorizer.vocabulary_)\n",
    "print(len(vectorizer.vocabulary_))\n",
    "#print(X)\n",
    "\n",
    "smatrix_normalized = sklearn.preprocessing.normalize(vectorizer.fit_transform(corpus), axis=1, norm='l1')\n",
    "X = smatrix_normalized.todense()\n",
    "\n",
    "# Cosine similarity\n",
    "from sklearn.metrics.pairwise import cosine_similarity\n",
    "print('\\n')\n",
    "#print(X[7:8])\n",
    "# dist_out = cosine_similarity(X[6:7], X)\n",
    "\n",
    "dist_matrix = []\n",
    "for i in range(len(corpus)):\n",
    "    #print(i)\n",
    "    dist_out= cosine_similarity(X[i:i+1], X)\n",
    "    dist_matrix.append(list(dist_out[0]))\n",
    "    print(dist_out)\n",
    "print(dist_matrix)\n",
    "\n",
    "# visualize\n",
    "#import numpy as np\n",
    "#import pandas as pd\n",
    "#from matplotlib import cm as cm\n",
    "#import matplotlib.pyplot as plt\n",
    "\n",
    "#%matplotlib inline\n",
    "\n",
    "#cmap = cm.get_cmap('Reds')\n",
    "#cax = plt.matshow(dist_matrix, interpolation='nearest', cmap=cmap)\n",
    "\n",
    "lbls = ['avengers1', 'avengers2', 'ironman1', 'ironman2', 'godfather1', 'godfather2', 'godfather3']\n",
    "import seaborn as sns; sns.set()\n",
    "plt.figure(figsize=(10,12))\n",
    "sns.heatmap(dist_matrix, square=True, annot=True, fmt='f', cbar=False,\n",
    "            xticklabels=lbls, yticklabels=lbls, cmap=\"Reds\")\n",
    "plt.xlabel('true label')\n",
    "plt.ylabel('predicted label')\n",
    "plt.show()"
   ]
  },
  {
   "cell_type": "markdown",
   "metadata": {},
   "source": [
    "___\n",
    "### Term Frequency - Inverse Document Frequency (Tf-Idf)\n",
    "\n",
    "- Term Frequency (Tf) shows fow prevalent a term is in a single document\n",
    "- Inverse Document Frequency (Idf) takes into account the distribution of the word over the corpus. In other words, it takes into consideration how common the term is in other documents in the corpus. \n",
    "- Tf x Idf is the multiplication of Tf and Idf values. This value can be considered as a specificness/importance measure of a particular term for a particular document."
   ]
  },
  {
   "cell_type": "code",
   "execution_count": 9,
   "metadata": {},
   "outputs": [
    {
     "name": "stdout",
     "output_type": "stream",
     "text": [
      "<class 'numpy.ndarray'>\n",
      "[1.40546511 1.40546511 1.         1.         1.        ]\n",
      "OrderedDict([('drink', 0), ('food', 1), ('is', 2), ('some', 3), ('this', 4)])\n",
      "  (0, 1)\t0.6300993445179441\n",
      "  (0, 3)\t0.44832087319911734\n",
      "  (0, 2)\t0.44832087319911734\n",
      "  (0, 4)\t0.44832087319911734\n",
      "  (1, 0)\t0.6300993445179441\n",
      "  (1, 3)\t0.44832087319911734\n",
      "  (1, 2)\t0.44832087319911734\n",
      "  (1, 4)\t0.44832087319911734\n"
     ]
    }
   ],
   "source": [
    "from sklearn.feature_extraction.text import TfidfVectorizer\n",
    "import numpy as np\n",
    "\n",
    "corpus_food = [\"this is some food\", \"this is some drink\"]\n",
    "vectorizer = TfidfVectorizer()\n",
    "X = vectorizer.fit_transform(corpus_food)\n",
    "print(type(vectorizer.idf_))\n",
    "print(vectorizer.idf_)\n",
    "print(OrderedDict(sorted(vectorizer.vocabulary_.items())))\n",
    "print(X)"
   ]
  },
  {
   "cell_type": "code",
   "execution_count": 32,
   "metadata": {},
   "outputs": [
    {
     "name": "stdout",
     "output_type": "stream",
     "text": [
      "['The sun is bright and the sky is blue.', 'The sky is blue as the sea.', 'The moon is in the clear sky.']\n",
      "['and', 'as', 'blue', 'bright', 'clear', 'in', 'is', 'moon', 'sea', 'sky', 'sun', 'the']\n",
      "['sun', 'sea', 'moon']\n"
     ]
    }
   ],
   "source": [
    "# BASIC TF IDF EXAMPLE\n",
    "from sklearn.feature_extraction.text import TfidfVectorizer\n",
    "import numpy as np\n",
    "\n",
    "D1 = \"The sun is bright and the sky is blue.\" \n",
    "D2 = \"The sky is blue as the sea.\"\n",
    "D3 = \"The moon is in the clear sky.\"\n",
    "\n",
    "corpus = []\n",
    "corpus.append(D1)\n",
    "corpus.append(D2)\n",
    "corpus.append(D3)\n",
    "\n",
    "print(corpus)\n",
    "\n",
    "vectorizer = TfidfVectorizer()\n",
    "X = vectorizer.fit_transform(corpus)\n",
    "print(vectorizer.get_feature_names())\n",
    "\n",
    "# Check the 3 terms having the highest IDF score.\n",
    "indices = np.argsort(vectorizer.idf_)[::-1]\n",
    "features = vectorizer.get_feature_names()\n",
    "top_n = 3\n",
    "top_features = [features[i] for i in indices[:top_n]]\n",
    "print (top_features)\n"
   ]
  },
  {
   "cell_type": "markdown",
   "metadata": {},
   "source": [
    "### EXERCISE 5 \n",
    "### Similarity Calculation on a More Realistic Dataset\n",
    "- Load the data\n",
    "-- All text files under the folder data\n",
    "- Represent the documents in BOW. (Use the features: Count, Frequency, TfIdf)\n",
    "- Calculate the cosine similarity\n",
    "- Plot similarity matrices for three different features. \n",
    "- Compare the results\n"
   ]
  },
  {
   "cell_type": "code",
   "execution_count": null,
   "metadata": {},
   "outputs": [],
   "source": [
    "# EXERCISE \n",
    "# IMDB Movie Plot Summary Similarity\n",
    "# Load Data: \n",
    "corpus = []\n",
    "f = open(\"data/marvel_movies/avengers1.txt\", \"r\") \n",
    "corpus.append(f.read())\n",
    "f = open(\"data/marvel_movies/avengers2.txt\", \"r\") \n",
    "corpus.append(f.read())\n",
    "f = open(\"data/marvel_movies/ironman1.txt\", \"r\") \n",
    "corpus.append(f.read())\n",
    "f = open(\"data/marvel_movies/ironman2.txt\", \"r\") \n",
    "corpus.append(f.read())\n",
    "#f = open(\"data/marvel_movies/ironman3.txt\", \"r\") \n",
    "#corpus.append(f.read())\n",
    "f = open(\"data/marvel_movies/godfather1.txt\", \"r\") \n",
    "corpus.append(f.read())\n",
    "f = open(\"data/marvel_movies/godfather2.txt\", \"r\") \n",
    "corpus.append(f.read())\n",
    "f = open(\"data/marvel_movies/godfather3.txt\", \"r\") \n",
    "corpus.append(f.read())\n",
    "#print (corpus)\n",
    "\n"
   ]
  },
  {
   "cell_type": "code",
   "execution_count": 13,
   "metadata": {},
   "outputs": [
    {
     "name": "stdout",
     "output_type": "stream",
     "text": [
      "489\n",
      "\n",
      "\n",
      "[[1.         0.32601595 0.257122   0.27997157 0.22857221 0.27595736\n",
      "  0.16549132]]\n",
      "[[0.32601595 1.         0.27531946 0.29206316 0.25359581 0.32113144\n",
      "  0.20341688]]\n",
      "[[0.257122   0.27531946 1.         0.33592028 0.21761437 0.27005315\n",
      "  0.16624729]]\n",
      "[[0.27997157 0.29206316 0.33592028 1.         0.22406096 0.24425149\n",
      "  0.17794295]]\n",
      "[[0.22857221 0.25359581 0.21761437 0.22406096 1.         0.51609377\n",
      "  0.33693661]]\n",
      "[[0.27595736 0.32113144 0.27005315 0.24425149 0.51609377 1.\n",
      "  0.44426093]]\n",
      "[[0.16549132 0.20341688 0.16624729 0.17794295 0.33693661 0.44426093\n",
      "  1.        ]]\n",
      "[[1.0, 0.32601595145263484, 0.25712199870864494, 0.2799715720162477, 0.22857221427771934, 0.27595735652271114, 0.16549131690243435], [0.32601595145263484, 1.0000000000000002, 0.27531946189322254, 0.29206316175859093, 0.25359581154056715, 0.32113144159002294, 0.203416875057021], [0.25712199870864494, 0.27531946189322254, 0.9999999999999999, 0.3359202754269476, 0.2176143664836515, 0.2700531535444979, 0.1662472937053602], [0.2799715720162477, 0.29206316175859093, 0.3359202754269476, 0.9999999999999998, 0.2240609642626771, 0.24425148587721113, 0.1779429543158371], [0.22857221427771934, 0.2535958115405671, 0.21761436648365146, 0.2240609642626771, 1.0, 0.5160937708811771, 0.3369366109452448], [0.27595735652271114, 0.321131441590023, 0.2700531535444978, 0.24425148587721113, 0.5160937708811771, 1.0, 0.4442609298594147], [0.16549131690243435, 0.203416875057021, 0.16624729370536023, 0.1779429543158371, 0.3369366109452448, 0.4442609298594147, 1.0000000000000002]]\n"
     ]
    },
    {
     "data": {
      "image/png": "[encoded data removed]",
      "text/plain": [
       "<Figure size 720x864 with 1 Axes>"
      ]
     },
     "metadata": {},
     "output_type": "display_data"
    }
   ],
   "source": [
    "######## SOLUTION\n",
    "\n",
    "from sklearn.feature_extraction.text import TfidfVectorizer\n",
    "#analyzer = CountVectorizer().build_analyzer()\n",
    "#vectorizer = CountVectorizer(analyzer=pre_process)\n",
    "#vectorizer = CountVectorizer(stop_words='english')\n",
    "vectorizer = TfidfVectorizer()\n",
    "\n",
    "X = vectorizer.fit_transform(corpus).todense()\n",
    "#print(vectorizer.get_feature_names())\n",
    "# print(X.shape)\n",
    "#type(vectorizer.vocabulary_)\n",
    "print(len(vectorizer.vocabulary_))\n",
    "#print(X)\n",
    "\n",
    "\n",
    "\n",
    "# Cosine similarity\n",
    "from sklearn.metrics.pairwise import cosine_similarity\n",
    "print('\\n')\n",
    "#print(X[7:8])\n",
    "# dist_out = cosine_similarity(X[6:7], X)\n",
    "\n",
    "dist_matrix = []\n",
    "for i in range(len(corpus)):\n",
    "    #print(i)\n",
    "    dist_out= cosine_similarity(X[i:i+1], X)\n",
    "    dist_matrix.append(list(dist_out[0]))\n",
    "    print(dist_out)\n",
    "print(dist_matrix)\n",
    "\n",
    "# visualize\n",
    "#import numpy as np\n",
    "#import pandas as pd\n",
    "#from matplotlib import cm as cm\n",
    "#import matplotlib.pyplot as plt\n",
    "\n",
    "#%matplotlib inline\n",
    "\n",
    "#cmap = cm.get_cmap('Reds')\n",
    "#cax = plt.matshow(dist_matrix, interpolation='nearest', cmap=cmap)\n",
    "\n",
    "lbls = ['avengers1', 'avengers2', 'ironman1', 'ironman2', 'godfather1', 'godfather2', 'godfather3']\n",
    "import seaborn as sns; sns.set()\n",
    "plt.figure(figsize=(10,12))\n",
    "sns.heatmap(dist_matrix, square=True, annot=True, fmt='f', cbar=False,\n",
    "            xticklabels=lbls, yticklabels=lbls, cmap=\"Reds\")\n",
    "plt.xlabel('true label')\n",
    "plt.ylabel('predicted label')\n",
    "plt.show()"
   ]
  },
  {
   "cell_type": "markdown",
   "metadata": {},
   "source": [
    "___\n",
    "### N-Gram Sequences\n",
    "BOW approach does not take the worder order into consideration. In order to preserve the information carried by word order to some extent, we can use n-grams. N is the number of words appearing consecutively in a sentence. \n",
    "\n",
    "**Ex:** \n",
    "\n",
    "Sentence: \"The quick brown fox jumps\"\n",
    "\n",
    "BOW: [\"The\", \"quick\", \"brown\", \"fox\", \"jumps\"]\n",
    "\n",
    "Bigrams (N=2): [\"The_quick\", \"quick_brown\", \"brown_fox\", \"fox_jumps\"]\n",
    "\n",
    "Trigrams (N=3): [\"The_quick_brown\", \"quick_brown_fox\", \"brown_fox_jumps\"]\n"
   ]
  },
  {
   "cell_type": "code",
   "execution_count": 38,
   "metadata": {},
   "outputs": [
    {
     "name": "stdout",
     "output_type": "stream",
     "text": [
      "<class 'generator'>\n",
      "('The', 'quick')\n",
      "('quick', 'brown')\n",
      "('brown', 'fox')\n",
      "('fox', 'jumps.')\n",
      "<class 'generator'>\n",
      "('The', 'quick', 'brown')\n",
      "('quick', 'brown', 'fox')\n",
      "('brown', 'fox', 'jumps.')\n"
     ]
    }
   ],
   "source": [
    "word_list = \"The quick brown fox jumps.\".split()\n",
    "\n",
    "# Bigram\n",
    "n = 2\n",
    "all_ngrams = nltk.ngrams(word_list, n)\n",
    "print(type(all_ngrams))\n",
    "\n",
    "for grams in all_ngrams:\n",
    "    print (grams)\n",
    "\n",
    "# Trigram\n",
    "n = 3\n",
    "all_ngrams = nltk.ngrams(word_list, n)\n",
    "print(type(all_ngrams))\n",
    "\n",
    "for grams in all_ngrams:\n",
    "    print (grams)"
   ]
  },
  {
   "cell_type": "markdown",
   "metadata": {},
   "source": [
    "__ngram_range__ parameter of vectorizers:"
   ]
  },
  {
   "cell_type": "code",
   "execution_count": 101,
   "metadata": {},
   "outputs": [
    {
     "name": "stdout",
     "output_type": "stream",
     "text": [
      "Vocabulary (train_set):  OrderedDict([('sky is blue', 0), ('sun is bright', 1), ('the sky is', 2), ('the sun is', 3)])\n"
     ]
    }
   ],
   "source": [
    "train_set = (\"The sky is blue.\", \"The sun is bright.\")\n",
    "test_set = (\"The sun in the sky is bright.\",\n",
    "    \"We can see the shining sun, the bright sun.\")\n",
    "\n",
    "vectorizer = CountVectorizer(ngram_range=(3,3))\n",
    "\n",
    "# Learn a vocabulary dictionary of all tokens in the raw documents.\n",
    "vectorizer.fit(train_set) \n",
    "print(\"Vocabulary (train_set): \", OrderedDict(sorted(vectorizer.vocabulary_.items())))\n"
   ]
  },
  {
   "cell_type": "markdown",
   "metadata": {},
   "source": [
    "___\n",
    "### EXERCISE 6 \n",
    "### Improve the Exercise 5 by adding (a) bigrams and (b) trigrams in the vocabulary\n",
    "\n",
    "You need to convert ngrams into words before expanding your vocabulary. A common approach to convert an n_gram, is to put the words together and separated by an underscore. \n",
    "\n",
    "For ex: ('The', 'quick') -> 'The_quick' \n",
    "\n",
    "DO:\n",
    "\n",
    "- Load the data\n",
    "-- All text files under the folder data\n",
    "- Represent the documents in BOW and include n_grams. (Use the features: Count, Frequency, TfIdf)\n",
    "- Calculate the cosine similarity\n",
    "- Plot similarity matrices for three different features. \n",
    "- Compare the results"
   ]
  },
  {
   "cell_type": "code",
   "execution_count": null,
   "metadata": {},
   "outputs": [],
   "source": [
    "## Create your magic here\n",
    "## \n",
    "##\n",
    "#\n",
    "#\n"
   ]
  },
  {
   "cell_type": "code",
   "execution_count": 105,
   "metadata": {},
   "outputs": [
    {
     "name": "stdout",
     "output_type": "stream",
     "text": [
      "2560\n",
      "\n",
      "\n",
      "[[1.         0.35213338 0.28909731 0.32434687 0.3020048  0.34682809\n",
      "  0.221936  ]]\n",
      "[[0.35213338 1.         0.32470499 0.36702333 0.33260208 0.41628244\n",
      "  0.26765039]]\n",
      "[[0.28909731 0.32470499 1.         0.35595427 0.27243251 0.32416644\n",
      "  0.20397311]]\n",
      "[[0.32434687 0.36702333 0.35595427 1.         0.30246762 0.33288629\n",
      "  0.23778375]]\n",
      "[[0.3020048  0.33260208 0.27243251 0.30246762 1.         0.5007166\n",
      "  0.35376576]]\n",
      "[[0.34682809 0.41628244 0.32416644 0.33288629 0.5007166  1.\n",
      "  0.42049528]]\n",
      "[[0.221936   0.26765039 0.20397311 0.23778375 0.35376576 0.42049528\n",
      "  1.        ]]\n",
      "[[0.9999999999999998, 0.35213338202463174, 0.28909730732837036, 0.3243468727075479, 0.3020047955773619, 0.34682809180808366, 0.2219359970777054], [0.35213338202463174, 1.0000000000000002, 0.32470498680643994, 0.3670233252079006, 0.33260207855811674, 0.41628244432368755, 0.26765038710920147], [0.28909730732837036, 0.32470498680643994, 0.9999999999999996, 0.3559542724905154, 0.27243251365738563, 0.3241664416829664, 0.2039731129644279], [0.3243468727075479, 0.3670233252079006, 0.3559542724905154, 1.0, 0.3024676151188418, 0.3328862858578846, 0.23778374764592367], [0.3020047955773619, 0.33260207855811674, 0.27243251365738563, 0.3024676151188418, 0.9999999999999988, 0.5007165954689126, 0.3537657623234259], [0.34682809180808366, 0.41628244432368755, 0.3241664416829664, 0.3328862858578846, 0.5007165954689126, 0.9999999999999989, 0.42049527874563275], [0.2219359970777054, 0.26765038710920147, 0.2039731129644279, 0.23778374764592367, 0.3537657623234259, 0.42049527874563275, 0.9999999999999997]]\n"
     ]
    },
    {
     "data": {
      "image/png": "[encoded data removed]",
      "text/plain": [
       "<Figure size 720x864 with 1 Axes>"
      ]
     },
     "metadata": {},
     "output_type": "display_data"
    }
   ],
   "source": [
    "###### SOLUTION\n",
    "\n",
    "# EXERCISE \n",
    "# IMDB Movie Plot Summary Similarity\n",
    "# Load Data: \n",
    "corpus = []\n",
    "f = open(\"data/marvel_movies/avengers1.txt\", \"r\") \n",
    "corpus.append(f.read())\n",
    "f = open(\"data/marvel_movies/avengers2.txt\", \"r\") \n",
    "corpus.append(f.read())\n",
    "f = open(\"data/marvel_movies/ironman1.txt\", \"r\") \n",
    "corpus.append(f.read())\n",
    "f = open(\"data/marvel_movies/ironman2.txt\", \"r\") \n",
    "corpus.append(f.read())\n",
    "#f = open(\"data/marvel_movies/ironman3.txt\", \"r\") \n",
    "#corpus.append(f.read())\n",
    "f = open(\"data/marvel_movies/godfather1.txt\", \"r\") \n",
    "corpus.append(f.read())\n",
    "f = open(\"data/marvel_movies/godfather2.txt\", \"r\") \n",
    "corpus.append(f.read())\n",
    "f = open(\"data/marvel_movies/godfather3.txt\", \"r\") \n",
    "corpus.append(f.read())\n",
    "#print (corpus)\n",
    "\n",
    "from sklearn.feature_extraction.text import TfidfVectorizer\n",
    "#analyzer = CountVectorizer().build_analyzer()\n",
    "#vectorizer = CountVectorizer(analyzer=pre_process)\n",
    "#vectorizer = CountVectorizer(stop_words='english')\n",
    "vectorizer = CountVectorizer(ngram_range=(1,3))\n",
    "\n",
    "X = vectorizer.fit_transform(corpus).todense()\n",
    "#print(vectorizer.get_feature_names())\n",
    "# print(X.shape)\n",
    "#type(vectorizer.vocabulary_)\n",
    "print(len(vectorizer.vocabulary_))\n",
    "#print(X)\n",
    "\n",
    "\n",
    "\n",
    "# Cosine similarity\n",
    "from sklearn.metrics.pairwise import cosine_similarity\n",
    "print('\\n')\n",
    "#print(X[7:8])\n",
    "# dist_out = cosine_similarity(X[6:7], X)\n",
    "\n",
    "dist_matrix = []\n",
    "for i in range(len(corpus)):\n",
    "    #print(i)\n",
    "    dist_out= cosine_similarity(X[i:i+1], X)\n",
    "    dist_matrix.append(list(dist_out[0]))\n",
    "    print(dist_out)\n",
    "print(dist_matrix)\n",
    "\n",
    "# visualize\n",
    "#import numpy as np\n",
    "#import pandas as pd\n",
    "#from matplotlib import cm as cm\n",
    "#import matplotlib.pyplot as plt\n",
    "\n",
    "#%matplotlib inline\n",
    "\n",
    "#cmap = cm.get_cmap('Reds')\n",
    "#cax = plt.matshow(dist_matrix, interpolation='nearest', cmap=cmap)\n",
    "\n",
    "lbls = ['avengers1', 'avengers2', 'ironman1', 'ironman2', 'godfather1', 'godfather2', 'godfather3']\n",
    "import seaborn as sns; sns.set()\n",
    "plt.figure(figsize=(10,12))\n",
    "sns.heatmap(dist_matrix, square=True, annot=True, fmt='f', cbar=False,\n",
    "            xticklabels=lbls, yticklabels=lbls, cmap=\"Reds\")\n",
    "plt.xlabel('true label')\n",
    "plt.ylabel('predicted label')\n",
    "plt.show()"
   ]
  },
  {
   "cell_type": "markdown",
   "metadata": {},
   "source": [
    "## Group Exercise\n",
    "\n",
    "GOAL: Check the similarity of Academic Transfer jobs. \n",
    "\n",
    "1. Load the 10 documents that you crawled from Academic Transfer. \n",
    "2. Apply proper processing  (tokenization, normalization, stemming, lemmatization, etc.) \n",
    "3. Vectorize these documents using TfIdf weighting. \n",
    "4. Compute cosine similarity matrix\n",
    "5. Plot the similarity matrix\n",
    "6. Interpret the results\n"
   ]
  },
  {
   "cell_type": "code",
   "execution_count": null,
   "metadata": {},
   "outputs": [],
   "source": []
  }
 ],
 "metadata": {
  "kernelspec": {
   "display_name": "Python 3",
   "language": "python",
   "name": "python3"
  },
  "language_info": {
   "codemirror_mode": {
    "name": "ipython",
    "version": 3
   },
   "file_extension": ".py",
   "mimetype": "text/x-python",
   "name": "python",
   "nbconvert_exporter": "python",
   "pygments_lexer": "ipython3",
   "version": "3.7.0"
  }
 },
 "nbformat": 4,
 "nbformat_minor": 2
}
